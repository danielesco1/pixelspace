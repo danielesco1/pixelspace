{
 "cells": [
  {
   "cell_type": "code",
   "execution_count": null,
   "metadata": {},
   "outputs": [],
   "source": [
    "from google.colab import drive\n",
    "#@title 1.0 Connect using google drive so your images remained saved outside of the virtual environment\n",
    "#@markdown If you connect your Google Drive, you can save the final image of each run on your drive.\n",
    "\n",
    "google_drive = True #@param {type:\"boolean\"}\n",
    "\n",
    "if google_drive is True:\n",
    "  drive.mount('/content/drive')\n",
    "  root_path = '/content/drive/MyDrive/AI'\n",
    "\n",
    "else:\n",
    "  root_path = '/content'\n",
    "\n",
    "drive.mount(\"/content/drive\", force_remount=True)"
   ]
  },
  {
   "cell_type": "code",
   "execution_count": null,
   "metadata": {},
   "outputs": [],
   "source": [
    "import os\n",
    "# Path of the directory to be created\n",
    "root_path = '/content/drive/MyDrive/AI'\n",
    "\n",
    "# Create the directory, only if it does not exist\n",
    "os.makedirs(root_path, exist_ok=True)\n",
    "\n",
    "# Check if the directory was created or exists\n",
    "if os.path.exists(root_path):\n",
    "    print(\"Folder is created or already exists.\")\n",
    "else:\n",
    "    print(\"Failed to create the folder.\")"
   ]
  },
  {
   "cell_type": "code",
   "execution_count": null,
   "metadata": {},
   "outputs": [],
   "source": [
    "# Repository URL and the name of the repository\n",
    "repo_url = 'https://github.com/danielesco1/pixelspace.git'\n",
    "repo_name = 'pixelspace'  # Extracted from the repo URL\n",
    "\n",
    "# Full path for the new subdirectory\n",
    "full_repopath = os.path.join(root_path, repo_name)\n",
    "\n",
    "# Create the subdirectory if it doesn't exist\n",
    "os.makedirs(full_repopath, exist_ok=True)\n",
    "\n",
    "# Clone the repository into the specified directory\n",
    "!git clone {repo_url} {full_repopath}"
   ]
  },
  {
   "cell_type": "code",
   "execution_count": 1,
   "metadata": {},
   "outputs": [
    {
     "name": "stdout",
     "output_type": "stream",
     "text": [
      "2.2.1+cu118\n"
     ]
    }
   ],
   "source": [
    "import torch\n",
    "print(torch.__version__)"
   ]
  }
 ],
 "metadata": {
  "kernelspec": {
   "display_name": "pixelspace",
   "language": "python",
   "name": "python3"
  },
  "language_info": {
   "codemirror_mode": {
    "name": "ipython",
    "version": 3
   },
   "file_extension": ".py",
   "mimetype": "text/x-python",
   "name": "python",
   "nbconvert_exporter": "python",
   "pygments_lexer": "ipython3",
   "version": "3.10.14"
  }
 },
 "nbformat": 4,
 "nbformat_minor": 2
}
