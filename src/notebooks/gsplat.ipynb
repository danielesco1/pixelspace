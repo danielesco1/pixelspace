{
 "cells": [
  {
   "cell_type": "code",
   "execution_count": 1,
   "metadata": {},
   "outputs": [],
   "source": [
    "#from gsplat.sh import num_sh_bases, spherical_harmonics\n",
    "from gsplat import project_gaussians, rasterize_gaussians\n",
    "from gsplat import spherical_harmonics"
   ]
  },
  {
   "cell_type": "code",
   "execution_count": 2,
   "metadata": {},
   "outputs": [
    {
     "ename": "ImportError",
     "evalue": "cannot import name 'simple_viewer' from 'gsplat' (/home/descobar/miniconda3/envs/pixelspace/lib/python3.10/site-packages/gsplat/__init__.py)",
     "output_type": "error",
     "traceback": [
      "\u001b[0;31m---------------------------------------------------------------------------\u001b[0m",
      "\u001b[0;31mImportError\u001b[0m                               Traceback (most recent call last)",
      "Cell \u001b[0;32mIn[2], line 1\u001b[0m\n\u001b[0;32m----> 1\u001b[0m \u001b[38;5;28;01mfrom\u001b[39;00m \u001b[38;5;21;01mgsplat\u001b[39;00m \u001b[38;5;28;01mimport\u001b[39;00m simple_viewer\n",
      "\u001b[0;31mImportError\u001b[0m: cannot import name 'simple_viewer' from 'gsplat' (/home/descobar/miniconda3/envs/pixelspace/lib/python3.10/site-packages/gsplat/__init__.py)"
     ]
    }
   ],
   "source": [
    "from gsplat.rendering."
   ]
  },
  {
   "cell_type": "code",
   "execution_count": null,
   "metadata": {},
   "outputs": [],
   "source": [
    "# View it in a viewer with gsplat\n",
    "python simple_viewer.py --scene_grid 5 --ckpt results/garden/ckpts/ckpt_6999.pt --backend gsplat"
   ]
  }
 ],
 "metadata": {
  "kernelspec": {
   "display_name": "pixelspace",
   "language": "python",
   "name": "python3"
  },
  "language_info": {
   "codemirror_mode": {
    "name": "ipython",
    "version": 3
   },
   "file_extension": ".py",
   "mimetype": "text/x-python",
   "name": "python",
   "nbconvert_exporter": "python",
   "pygments_lexer": "ipython3",
   "version": "3.10.14"
  }
 },
 "nbformat": 4,
 "nbformat_minor": 2
}
